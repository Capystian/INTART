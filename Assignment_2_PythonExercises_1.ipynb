{
  "nbformat": 4,
  "nbformat_minor": 0,
  "metadata": {
    "colab": {
      "provenance": []
    },
    "kernelspec": {
      "name": "python3",
      "display_name": "Python 3"
    },
    "language_info": {
      "name": "python"
    }
  },
  "cells": [
    {
      "cell_type": "code",
      "execution_count": null,
      "metadata": {
        "colab": {
          "base_uri": "https://localhost:8080/"
        },
        "id": "UMsdv1Hj6Ng_",
        "outputId": "7eccfbf9-93b9-431e-9e61-565c20eca363"
      },
      "outputs": [
        {
          "output_type": "stream",
          "name": "stdout",
          "text": [
            "Número de palabras: 47\n",
            "Número de oraciones: 3\n",
            "Número de párrafos: 1\n",
            "Longitud promedio de las palabras: 4.53\n",
            "Palabras más comunes y sus frecuencias:\n",
            "la: 5\n",
            "el: 3\n",
            "y: 3\n"
          ]
        }
      ],
      "source": [
        "import string\n",
        "from collections import Counter\n",
        "\n",
        "def analyze_text(file_path):\n",
        "    with open(file_path, 'r') as file:\n",
        "        text = file.read()\n",
        "\n",
        "    words = text.split()\n",
        "    num_words = len(words) # En esta seccion contara las palabras del texto proporcionado\n",
        "\n",
        "    # Cuenta las oraciones que terminan en \"., \"!\", \"?\"\n",
        "    sentences = text.split('.')\n",
        "    sentences += text.split('!')\n",
        "    sentences += text.split('?')\n",
        "    num_sentences = len(sentences) - 3  # Restamos 3 por las divisiones iniciales\n",
        "\n",
        "    # Contar párrafos (en donde existe separacion de línea)\n",
        "    paragraphs = text.split('\\n\\n')\n",
        "    num_paragraphs = len(paragraphs)\n",
        "\n",
        "    # Calcula la longitud promedio de las palabras\n",
        "    total_word_length = sum(len(word.strip(string.punctuation)) for word in words)\n",
        "    avg_word_length = total_word_length / num_words if num_words > 0 else 0\n",
        "\n",
        "    word_counts = Counter(word.strip(string.punctuation).lower() for word in words) # Identifica las palabras más comunes (en base a las palabras contadas)\n",
        "    most_common_words = word_counts.most_common(3)  # Las 3 palabras más comunes\n",
        "\n",
        "    # Imprime los resultados\n",
        "    print(f\"Número de palabras: {num_words}\")\n",
        "    print(f\"Número de oraciones: {num_sentences}\")\n",
        "    print(f\"Número de párrafos: {num_paragraphs}\")\n",
        "    print(f\"Longitud promedio de las palabras: {avg_word_length:.2f}\")\n",
        "    print(\"Palabras más comunes y sus frecuencias:\")\n",
        "    for word, freq in most_common_words:\n",
        "        print(f\"{word}: {freq}\")\n",
        "\n",
        "with open('sample_text.txt', 'w') as file: # Fragmento del cuento \"Los tres cochinitos\"\n",
        "    file.write(\"\"\"El lobo sopló y resopló con todas sus fuerzas, pero la casita de ladrillos resistía sus soplidos y resoplidos.\n",
        "                  Más enfurecido y hambriento que nunca decidió trepar el techo para meterse por la chimenea.\n",
        "                  Al bajar la chimenea, el lobo se quemó la cola con la fogata.\"\"\")\n",
        "\n",
        "analyze_text('sample_text.txt') # Analiza el texto proporcionado\n",
        "\n",
        "\n"
      ]
    },
    {
      "cell_type": "code",
      "source": [
        "import random\n",
        "\n",
        "def hangman():\n",
        "    words = ['capybara', 'rodent', 'fat', 'carpincho'] # Palabras a adivinar, se seleccciona una aleatoria\n",
        "    word_to_guess = random.choice(words)\n",
        "    guessed_word = ['_'] * len(word_to_guess)\n",
        "    attempts = 5  # n de intentos\n",
        "\n",
        "    print(\"Hora de jugar al ahorcado!\") # Mensaje de bienvenida\n",
        "    print(\" \".join(guessed_word))\n",
        "\n",
        "    while attempts > 0 and '_' in guessed_word:\n",
        "        guess = input(\"Adivina una letra: \").lower()\n",
        "\n",
        "        if guess in word_to_guess:\n",
        "            for i, letter in enumerate(word_to_guess):\n",
        "                if letter == guess:\n",
        "                    guessed_word[i] = guess\n",
        "            print(\"Correcto!\")\n",
        "        else:\n",
        "            attempts -= 1\n",
        "            print(f\"Fallaste. Te quedan {attempts} intentos.\")\n",
        "\n",
        "        print(\" \".join(guessed_word))\n",
        "\n",
        "    if '_' not in guessed_word:\n",
        "        print(\"Adivinaste! :)\")\n",
        "    else:\n",
        "        print(f\"No lo lograste, la palabra era'{word_to_guess}'.\")\n",
        "\n",
        "hangman() # Llama a la funcion para comenzar a jugar\n"
      ],
      "metadata": {
        "colab": {
          "base_uri": "https://localhost:8080/"
        },
        "id": "oXVXnaTQAN90",
        "outputId": "621eb54f-b0c4-4f92-a694-a2e15ee3f5b2"
      },
      "execution_count": null,
      "outputs": [
        {
          "output_type": "stream",
          "name": "stdout",
          "text": [
            "¡Hora de jugar al ahorcado!\n",
            "_ _ _\n",
            "Adivina una letra: f\n",
            "Correcto!\n",
            "f _ _\n",
            "Adivina una letra: a\n",
            "Correcto!\n",
            "f a _\n",
            "Adivina una letra: t\n",
            "Correcto!\n",
            "f a t\n",
            "Adivinaste! :)\n"
          ]
        }
      ]
    },
    {
      "cell_type": "code",
      "source": [
        "import random\n",
        "\n",
        "def number_guessing_game():\n",
        "    target_number = random.randint(1, 100) # Selecciona un numero aleatorio entre 1 y 100\n",
        "    guess = None\n",
        "\n",
        "    print(\"Adivina en que numero estoy pensando\") # Imprime mensaje de bienvenida\n",
        "    print(\"Estoy pensando alguno entre 1 y 100\") # Especifica los limites al jugador\n",
        "\n",
        "    while guess != target_number:\n",
        "        guess = int(input(\"Adivina el número: \"))\n",
        "\n",
        "        # Indica el valor al jugador\n",
        "        if guess < target_number:\n",
        "            print(\"Es mas grande.\")\n",
        "        elif guess > target_number:\n",
        "            print(\"Es mas pequeño.\")\n",
        "        else:\n",
        "            print(\"Adivinaste! (:)\")\n",
        "\n",
        "number_guessing_game() # Llama a la funcion para comenzar a jugar\n"
      ],
      "metadata": {
        "colab": {
          "base_uri": "https://localhost:8080/"
        },
        "id": "rtMX6T-PFWE7",
        "outputId": "dfb14d42-6bb3-4e51-efc7-f1c4f0dc103b"
      },
      "execution_count": null,
      "outputs": [
        {
          "output_type": "stream",
          "name": "stdout",
          "text": [
            "Adivina en que numero estoy pensando\n",
            "Estoy pensando en uno entre 1 y 100\n",
            "Adivina el número: 5\n",
            "Es mas grande.\n",
            "Adivina el número: 20\n",
            "Es mas pequeño.\n",
            "Adivina el número: 15\n",
            "Es mas pequeño.\n",
            "Adivina el número: 10\n",
            "Es mas grande.\n",
            "Adivina el número: 11\n",
            "Adivinaste! (:)\n"
          ]
        }
      ]
    }
  ]
}